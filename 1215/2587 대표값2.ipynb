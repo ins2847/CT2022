{
 "cells": [
  {
   "cell_type": "markdown",
   "id": "f5c4b62d",
   "metadata": {},
   "source": [
    "## 문제2587\n",
    "어떤 수들이 있을 때, 그 수들을 대표하는 값으로 가장 흔하게 쓰이는 것은 평균이다. 평균은 주어진 모든 수의 합을 수의 개수로 나눈 것이다. 예를 들어 10, 40, 30, 60, 30의 평균은 (10 + 40 + 30 + 60 + 30) / 5 = 170 / 5 = 34가 된다.\n",
    "\n",
    "평균 이외의 또 다른 대표값으로 중앙값이라는 것이 있다. 중앙값은 주어진 수를 크기 순서대로 늘어 놓았을 때 가장 중앙에 놓인 값이다. 예를 들어 10, 40, 30, 60, 30의 경우, 크기 순서대로 늘어 놓으면\n",
    "\n",
    "10 30 30 40 60\n",
    "\n",
    "이 되고 따라서 중앙값은 30이 된다.\n",
    "\n",
    "다섯 개의 자연수가 주어질 때 이들의 평균과 중앙값을 구하는 프로그램을 작성하시오.\n",
    "\n",
    "입력\n",
    "첫째 줄부터 다섯 번째 줄까지 한 줄에 하나씩 자연수가 주어진다. 주어지는 자연수는 100 보다 작은 10의 배수이다.\n",
    "\n",
    "출력\n",
    "첫째 줄에는 평균을 출력하고, 둘째 줄에는 중앙값을 출력한다. 평균과 중앙값은 모두 **자연수** 이다."
   ]
  },
  {
   "cell_type": "code",
   "execution_count": 1,
   "id": "5cd0ab1b",
   "metadata": {},
   "outputs": [
    {
     "name": "stdout",
     "output_type": "stream",
     "text": [
      "10\n",
      "40\n",
      "30\n",
      "60\n",
      "30\n",
      "34.0\n",
      "30\n"
     ]
    }
   ],
   "source": [
    "num_list = []\n",
    "for _ in range(5):\n",
    "    N = int(input())\n",
    "    num_list.append(N)\n",
    "\n",
    "num_list = sorted(num_list)\n",
    "print(int(sum(num_list)/len(num_list)))\n",
    "print(num_list[2])"
   ]
  }
 ],
 "metadata": {
  "kernelspec": {
   "display_name": "Python 3 (ipykernel)",
   "language": "python",
   "name": "python3"
  },
  "language_info": {
   "codemirror_mode": {
    "name": "ipython",
    "version": 3
   },
   "file_extension": ".py",
   "mimetype": "text/x-python",
   "name": "python",
   "nbconvert_exporter": "python",
   "pygments_lexer": "ipython3",
   "version": "3.9.0b1"
  }
 },
 "nbformat": 4,
 "nbformat_minor": 5
}
