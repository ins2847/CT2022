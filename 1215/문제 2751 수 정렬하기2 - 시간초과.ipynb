{
 "cells": [
  {
   "cell_type": "markdown",
   "id": "b43bad15",
   "metadata": {},
   "source": [
    "### 문제 2751 수 정렬하기2\n",
    "N개의 수가 주어졌을 때, 이를 오름차순으로 정렬하는 프로그램을 작성하시오.\n",
    "\n",
    "입력\n",
    "\n",
    "첫째 줄에 수의 개수 N(1 ≤ N ≤ 1,000,000)이 주어진다. 둘째 줄부터 N개의 줄에는 수가 주어진다. 이 수는 절댓값이 1,000,000보다 작거나 같은 정수이다. 수는 중복되지 않는다.\n",
    "\n",
    "출력\n",
    "\n",
    "첫째 줄부터 N개의 줄에 오름차순으로 정렬한 결과를 한 줄에 하나씩 출력한다.\n",
    "\n"
   ]
  },
  {
   "cell_type": "code",
   "execution_count": 10,
   "id": "a2a1037b",
   "metadata": {},
   "outputs": [
    {
     "name": "stdout",
     "output_type": "stream",
     "text": [
      "5\n",
      "5\n",
      "4\n",
      "3\n",
      "2\n",
      "1\n",
      "1\n",
      "2\n",
      "3\n",
      "4\n",
      "5\n",
      "\n"
     ]
    }
   ],
   "source": [
    "N = int(input())\n",
    "\n",
    "#시간을 위해 입력 갯수대로 공간 할당 ?.\n",
    "N_list = [0 for _ in range(N)]\n",
    "\n",
    "for i in range(N):\n",
    "    N_list[i] = int(input())\n",
    "#N_list = sorted(N_list)\n",
    "\n",
    "#시간을 위해 리스트 원소별로 출력이 아닌 줄바꿈으로 하개의 전체로 출력\n",
    "an = ''\n",
    "for i in sorted(N_list) :\n",
    "    an+= str(i)+'\\n'\n",
    "\n",
    "print(an)"
   ]
  },
  {
   "cell_type": "markdown",
   "id": "cac56ee8",
   "metadata": {},
   "source": [
    "## 참고해설\n",
    "\n",
    "https://assaeunji.github.io/python/2020-05-06-bj2751/"
   ]
  },
  {
   "cell_type": "code",
   "execution_count": null,
   "id": "894238e7",
   "metadata": {},
   "outputs": [],
   "source": [
    "def merge_sort(array):\n",
    "    if len(array)<=1:\n",
    "        return array\n",
    "    mid = len(array) // 2\n",
    "    left = merge_sort(array[:mid])\n",
    "    right = merge_sort(array[mid:])\n",
    "\n",
    "    i,j,k = 0,0,0\n",
    "\n",
    "    while i < len(left) and j <len(right):\n",
    "        if left[i] < right[j]:\n",
    "            array[k] = left[i]\n",
    "            i += 1\n",
    "        else:\n",
    "            array[k] = right[j]\n",
    "            j += 1\n",
    "        k+=1\n",
    "    \n",
    "    if i==len(left):\n",
    "        while j < len(right):\n",
    "            array[k] = right[j]\n",
    "            j += 1\n",
    "            k += 1\n",
    "    elif j==len(right):\n",
    "        while i < len(left):\n",
    "            array[k] = left[i]\n",
    "            i += 1\n",
    "            k += 1\n",
    "    return array\n",
    "\n",
    "# 데이터 입력\n",
    "n=int(input())\n",
    "num = []\n",
    "\n",
    "for _ in range(n):\n",
    "    num.append(int(input()))\n",
    "\n",
    "num = merge_sort(num)\n",
    "\n",
    "for i in num:\n",
    "    print(i)"
   ]
  },
  {
   "cell_type": "markdown",
   "id": "c430c683",
   "metadata": {},
   "source": [
    "#시간 초과 해결 실마리\n",
    "https://dailylifeofdeveloper.tistory.com/182"
   ]
  }
 ],
 "metadata": {
  "kernelspec": {
   "display_name": "Python 3 (ipykernel)",
   "language": "python",
   "name": "python3"
  },
  "language_info": {
   "codemirror_mode": {
    "name": "ipython",
    "version": 3
   },
   "file_extension": ".py",
   "mimetype": "text/x-python",
   "name": "python",
   "nbconvert_exporter": "python",
   "pygments_lexer": "ipython3",
   "version": "3.9.0b1"
  }
 },
 "nbformat": 4,
 "nbformat_minor": 5
}
