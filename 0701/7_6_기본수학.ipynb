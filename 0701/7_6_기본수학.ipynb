{
  "nbformat": 4,
  "nbformat_minor": 0,
  "metadata": {
    "colab": {
      "name": "7_6_기본수학.ipynb",
      "provenance": []
    },
    "kernelspec": {
      "name": "python3",
      "display_name": "Python 3"
    },
    "language_info": {
      "name": "python"
    }
  },
  "cells": [
    {
      "cell_type": "code",
      "execution_count": null,
      "metadata": {
        "id": "BumTftuG1MUv"
      },
      "outputs": [],
      "source": [
        "### 10757번 큰수 A+B"
      ]
    },
    {
      "cell_type": "code",
      "source": [
        "def solution():\n",
        "    A, B = map(int,input().split())\n",
        "    \n",
        "    print(A+B)\n",
        "solution()"
      ],
      "metadata": {
        "colab": {
          "base_uri": "https://localhost:8080/"
        },
        "id": "1DrdQNOn1hXJ",
        "outputId": "3eea0766-f3a8-4209-e10c-aaabce3dc83c"
      },
      "execution_count": 3,
      "outputs": [
        {
          "output_type": "stream",
          "name": "stdout",
          "text": [
            "9223372036854775807 9223372036854775808\n",
            "18446744073709551615\n"
          ]
        }
      ]
    },
    {
      "cell_type": "code",
      "source": [
        "### 1978번 소수찾기\u001b"
      ],
      "metadata": {
        "id": "AQC6dRNt2eZi"
      },
      "execution_count": null,
      "outputs": []
    },
    {
      "cell_type": "code",
      "source": [
        "def solution():\n",
        "    N = int(input())\n",
        "\n",
        "    num = map(int, input().split())\n",
        "    cnt = 0\n",
        "    \n",
        "\n",
        "    for i in num:\n",
        "        error = 0\n",
        "        if i > 1 :\n",
        "            for j in range(2, i):\n",
        "                if i%j == 0 :\n",
        "                    error+=1\n",
        "            if error==0:\n",
        "                cnt+=1\n",
        "                    \n",
        "    print(cnt)\n",
        "\n",
        "solution()"
      ],
      "metadata": {
        "colab": {
          "base_uri": "https://localhost:8080/"
        },
        "id": "WaUhrTH42pNT",
        "outputId": "92ca70b1-44b2-4f4f-bb7a-417d7aaa4021"
      },
      "execution_count": 38,
      "outputs": [
        {
          "output_type": "stream",
          "name": "stdout",
          "text": [
            "4\n",
            "1 3 5 7\n",
            "3\n"
          ]
        }
      ]
    }
  ]
}