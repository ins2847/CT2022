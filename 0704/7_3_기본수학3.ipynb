{
  "nbformat": 4,
  "nbformat_minor": 0,
  "metadata": {
    "colab": {
      "name": "7_3_기본수학3.ipynb",
      "provenance": []
    },
    "kernelspec": {
      "name": "python3",
      "display_name": "Python 3"
    },
    "language_info": {
      "name": "python"
    }
  },
  "cells": [
    {
      "cell_type": "code",
      "execution_count": 26,
      "metadata": {
        "colab": {
          "base_uri": "https://localhost:8080/"
        },
        "id": "xHtwZ8sW8Uee",
        "outputId": "70dda1c9-6744-4f28-b88e-06f8dd17af62"
      },
      "outputs": [
        {
          "output_type": "stream",
          "name": "stdout",
          "text": [
            "3 16\n",
            "3\n",
            "5\n",
            "7\n",
            "11\n",
            "13\n"
          ]
        }
      ],
      "source": [
        "def solution(num):\n",
        "    if num==1:\n",
        "        return False\n",
        "    else:\n",
        "        for i in range(2,int((num**0.5))+1):\n",
        "            if num%i==0 :\n",
        "                \n",
        "                return False\n",
        "        return True\n",
        "\n",
        "M, N = map(int,input().split())\n",
        "for i in range(M,N+1):\n",
        "    if solution(i):\n",
        "        print(i)\n"
      ]
    }
  ]
}