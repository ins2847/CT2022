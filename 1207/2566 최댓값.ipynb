{
 "cells": [
  {
   "cell_type": "markdown",
   "id": "032cbdbd",
   "metadata": {},
   "source": [
    "문제 #2566 :최대 값\n",
    "\n",
    "<그림 1>과 같이 9×9 격자판에 쓰여진 81개의 자연수 또는 0이 주어질 때, 이들 중 최댓값을 찾고 그 최댓값이 몇 행 몇 열에 위치한 수인지 구하는 프로그램을 작성하시오."
   ]
  },
  {
   "cell_type": "code",
   "execution_count": 38,
   "id": "640e86e4",
   "metadata": {},
   "outputs": [
    {
     "name": "stdout",
     "output_type": "stream",
     "text": [
      "3 23 85 34 17 74 25 52 65\n",
      "10 7 39 42 88 52 14 72 63\n",
      "87 42 18 78 53 45 18 84 53\n",
      "34 28 64 85 12 16 75 36 55\n",
      "21 77 45 35 28 75 90 76 1\n",
      "25 87 65 15 28 11 37 28 74\n",
      "65 27 75 41 7 89 78 64 39\n",
      "47 47 70 45 23 65 3 41 44\n",
      "87 13 82 38 31 12 29 29 80\n",
      "90\n",
      "5 7 "
     ]
    }
   ],
   "source": [
    "#제출\n",
    "num = -1\n",
    "x = 0\n",
    "y = 0\n",
    "for i in range(9):\n",
    "    num_list = list(map(int, input().split()))\n",
    "    if num < max(num_list):\n",
    "        num = max(num_list)\n",
    "        x = i+1\n",
    "        y = num_list.index(num)+1\n",
    "print(num)\n",
    "print(x,y)\n",
    "        \n",
    "        \n",
    "        "
   ]
  },
  {
   "cell_type": "code",
   "execution_count": null,
   "id": "6f4ccf93",
   "metadata": {},
   "outputs": [],
   "source": [
    "5 7"
   ]
  },
  {
   "cell_type": "code",
   "execution_count": 39,
   "id": "722e9fd0",
   "metadata": {},
   "outputs": [],
   "source": [
    "max_index = [1,2]"
   ]
  },
  {
   "cell_type": "code",
   "execution_count": 42,
   "id": "4954d9ca",
   "metadata": {},
   "outputs": [
    {
     "name": "stdout",
     "output_type": "stream",
     "text": [
      "1 2\n"
     ]
    }
   ],
   "source": [
    "print(max_index[0],max_index[1])"
   ]
  },
  {
   "cell_type": "code",
   "execution_count": 40,
   "id": "55114a29",
   "metadata": {},
   "outputs": [
    {
     "name": "stdout",
     "output_type": "stream",
     "text": [
      "1 2 "
     ]
    }
   ],
   "source": [
    "for i in max_index:\n",
    "    print(i,end=' ')"
   ]
  },
  {
   "cell_type": "code",
   "execution_count": 3,
   "id": "cf097051",
   "metadata": {},
   "outputs": [
    {
     "name": "stdout",
     "output_type": "stream",
     "text": [
      "1 2 3 4 5\n"
     ]
    }
   ],
   "source": [
    "num_list = list(map(int, input().split()))"
   ]
  },
  {
   "cell_type": "code",
   "execution_count": 23,
   "id": "ffc57391",
   "metadata": {},
   "outputs": [
    {
     "data": {
      "text/plain": [
       "5"
      ]
     },
     "execution_count": 23,
     "metadata": {},
     "output_type": "execute_result"
    }
   ],
   "source": [
    "if num < max(num_list):\n",
    "    num = max(num_list)\n",
    "    max_index =[i+1,num_list.index(num)+1]\n",
    "print(num)\n",
    "for i in max_index:\n",
    "    print(i,end=' ')"
   ]
  }
 ],
 "metadata": {
  "kernelspec": {
   "display_name": "Python 3 (ipykernel)",
   "language": "python",
   "name": "python3"
  },
  "language_info": {
   "codemirror_mode": {
    "name": "ipython",
    "version": 3
   },
   "file_extension": ".py",
   "mimetype": "text/x-python",
   "name": "python",
   "nbconvert_exporter": "python",
   "pygments_lexer": "ipython3",
   "version": "3.9.0b1"
  }
 },
 "nbformat": 4,
 "nbformat_minor": 5
}
