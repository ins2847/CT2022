{
  "nbformat": 4,
  "nbformat_minor": 0,
  "metadata": {
    "colab": {
      "name": "7_2_기본수학2.ipynb",
      "provenance": []
    },
    "kernelspec": {
      "name": "python3",
      "display_name": "Python 3"
    },
    "language_info": {
      "name": "python"
    }
  },
  "cells": [
    {
      "cell_type": "code",
      "execution_count": null,
      "metadata": {
        "id": "xvoyy_bS52Lb"
      },
      "outputs": [],
      "source": [
        "### 11653번 - 소인수 분해"
      ]
    },
    {
      "cell_type": "code",
      "source": [
        "def solution():\n",
        "    N = int(input())\n",
        "    \n",
        "    while N!=1:\n",
        "    \n",
        "        \n",
        "        for i in range(2,N+1):\n",
        "            \n",
        "            \n",
        "            if N%i !=0:\n",
        "                continue\n",
        "            else :\n",
        "                \n",
        "                N=int(N/i)\n",
        "                print(i)\n",
        "                \n",
        "                break\n",
        "    \n",
        "             \n",
        "solution()"
      ],
      "metadata": {
        "colab": {
          "base_uri": "https://localhost:8080/"
        },
        "id": "O2YeiH1l6bXk",
        "outputId": "cc147191-6161-4fef-e544-bde3cbbffe74"
      },
      "execution_count": 45,
      "outputs": [
        {
          "output_type": "stream",
          "name": "stdout",
          "text": [
            "72\n",
            "2\n",
            "2\n",
            "2\n",
            "3\n",
            "3\n"
          ]
        }
      ]
    }
  ]
}