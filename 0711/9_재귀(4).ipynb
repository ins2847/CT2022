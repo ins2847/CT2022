{
  "nbformat": 4,
  "nbformat_minor": 0,
  "metadata": {
    "colab": {
      "name": "9_재귀(4).ipynb",
      "provenance": [],
      "collapsed_sections": []
    },
    "kernelspec": {
      "name": "python3",
      "display_name": "Python 3"
    },
    "language_info": {
      "name": "python"
    }
  },
  "cells": [
    {
      "cell_type": "code",
      "execution_count": 1,
      "metadata": {
        "id": "mQ3On2zhoXWa"
      },
      "outputs": [],
      "source": [
        "##2447번 별 찍기 - 1000"
      ]
    },
    {
      "cell_type": "code",
      "source": [
        "n = int(input())\n",
        "\n",
        "def star(l):\n",
        "    if l == 3:\n",
        "        return ['***','* *','***']\n",
        "\n",
        "    arr = star(l//3)\n",
        "    stars = []\n",
        "\n",
        "    for i in arr:\n",
        "        stars.append(i*3)\n",
        "\n",
        "    for i in arr:\n",
        "        stars.append(i+' '*(l//3)+i)\n",
        "\n",
        "    for i in arr:\n",
        "        stars.append(i*3)\n",
        "\n",
        "    return stars\n",
        "\n",
        "print('\\n'.join(star(n)))"
      ],
      "metadata": {
        "colab": {
          "base_uri": "https://localhost:8080/"
        },
        "id": "XXBjqGSBod5q",
        "outputId": "37c0f883-96e1-48c2-f7ae-58a6699aaf03"
      },
      "execution_count": 96,
      "outputs": [
        {
          "output_type": "stream",
          "name": "stdout",
          "text": [
            "27\n",
            "***************************\n",
            "* ** ** ** ** ** ** ** ** *\n",
            "***************************\n",
            "***   ******   ******   ***\n",
            "* *   * ** *   * ** *   * *\n",
            "***   ******   ******   ***\n",
            "***************************\n",
            "* ** ** ** ** ** ** ** ** *\n",
            "***************************\n",
            "*********         *********\n",
            "* ** ** *         * ** ** *\n",
            "*********         *********\n",
            "***   ***         ***   ***\n",
            "* *   * *         * *   * *\n",
            "***   ***         ***   ***\n",
            "*********         *********\n",
            "* ** ** *         * ** ** *\n",
            "*********         *********\n",
            "***************************\n",
            "* ** ** ** ** ** ** ** ** *\n",
            "***************************\n",
            "***   ******   ******   ***\n",
            "* *   * ** *   * ** *   * *\n",
            "***   ******   ******   ***\n",
            "***************************\n",
            "* ** ** ** ** ** ** ** ** *\n",
            "***************************\n"
          ]
        }
      ]
    },
    {
      "cell_type": "code",
      "source": [
        "M = ['***','* *','***']\n",
        "star = []"
      ],
      "metadata": {
        "id": "93OXlvpm4P7Y"
      },
      "execution_count": 110,
      "outputs": []
    },
    {
      "cell_type": "code",
      "source": [
        "def draw_s(N,M):\n",
        "    \n",
        "    star = []\n",
        "\n",
        "    if N==3:\n",
        "        return M\n",
        "    \n",
        "    \n",
        "    for i in M:\n",
        "        star.append(i*3)\n",
        "    for i in M:\n",
        "        star.append(i+(' '*len(M))+i)\n",
        "        ##star.append(i+(' '*len(M))+i)\n",
        "    for i in M:\n",
        "        star.append(i*3)\n",
        "\n",
        "    return draw_s(N//3,star)\n",
        "\n",
        "\n",
        "N= int(input())\n",
        "M = ['***','* *','***']\n",
        "f = draw_s(N,M)\n",
        "\n",
        "for i in f:\n",
        "    print(i)"
      ],
      "metadata": {
        "colab": {
          "base_uri": "https://localhost:8080/"
        },
        "id": "-qaXxKYVRXq4",
        "outputId": "876ecd7e-b4d7-488a-9830-0e4fa6034328"
      },
      "execution_count": 2,
      "outputs": [
        {
          "output_type": "stream",
          "name": "stdout",
          "text": [
            "27\n",
            "***************************\n",
            "* ** ** ** ** ** ** ** ** *\n",
            "***************************\n",
            "***   ******   ******   ***\n",
            "* *   * ** *   * ** *   * *\n",
            "***   ******   ******   ***\n",
            "***************************\n",
            "* ** ** ** ** ** ** ** ** *\n",
            "***************************\n",
            "*********         *********\n",
            "* ** ** *         * ** ** *\n",
            "*********         *********\n",
            "***   ***         ***   ***\n",
            "* *   * *         * *   * *\n",
            "***   ***         ***   ***\n",
            "*********         *********\n",
            "* ** ** *         * ** ** *\n",
            "*********         *********\n",
            "***************************\n",
            "* ** ** ** ** ** ** ** ** *\n",
            "***************************\n",
            "***   ******   ******   ***\n",
            "* *   * ** *   * ** *   * *\n",
            "***   ******   ******   ***\n",
            "***************************\n",
            "* ** ** ** ** ** ** ** ** *\n",
            "***************************\n"
          ]
        }
      ]
    },
    {
      "cell_type": "code",
      "source": [
        ""
      ],
      "metadata": {
        "id": "nzmbq0U5qO9O"
      },
      "execution_count": null,
      "outputs": []
    }
  ]
}