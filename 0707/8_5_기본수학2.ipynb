{
  "nbformat": 4,
  "nbformat_minor": 0,
  "metadata": {
    "colab": {
      "name": "8_5_기본수학2.ipynb",
      "provenance": [],
      "collapsed_sections": []
    },
    "kernelspec": {
      "name": "python3",
      "display_name": "Python 3"
    },
    "language_info": {
      "name": "python"
    }
  },
  "cells": [
    {
      "cell_type": "code",
      "execution_count": null,
      "metadata": {
        "id": "E_hT4sBhXDTx"
      },
      "outputs": [],
      "source": [
        "#4948 베르트랑 공준"
      ]
    },
    {
      "cell_type": "code",
      "source": [
        "num = []\n",
        "for i in range(2, 123456*2+1):\n",
        "    cnt = 0\n",
        "\n",
        "    for j in range(2,int(i**0.5)+1):\n",
        "        if i%j==0:\n",
        "            cnt+=1\n",
        "            break\n",
        "    else:\n",
        "        num.append(i)\n",
        "\n",
        "while True:\n",
        "    n = int(input())\n",
        "    cnt = 0\n",
        "    if n==0:\n",
        "        break;\n",
        "\n",
        "    for i in num:\n",
        "        if n<i<=2*n:\n",
        "            cnt+=1\n",
        "    print(cnt)"
      ],
      "metadata": {
        "id": "pRmlMtfOXQRX"
      },
      "execution_count": 32,
      "outputs": []
    }
  ]
}