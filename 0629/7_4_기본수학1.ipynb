{
  "nbformat": 4,
  "nbformat_minor": 0,
  "metadata": {
    "colab": {
      "name": "7_4_기본수학1.ipynb",
      "provenance": [],
      "collapsed_sections": []
    },
    "kernelspec": {
      "name": "python3",
      "display_name": "Python 3"
    },
    "language_info": {
      "name": "python"
    }
  },
  "cells": [
    {
      "cell_type": "code",
      "execution_count": null,
      "metadata": {
        "id": "MS_lya72sgQD"
      },
      "outputs": [],
      "source": [
        "## 2775번 부녀회장이 될테야"
      ]
    },
    {
      "cell_type": "code",
      "source": [
        "def solution():\n",
        "    T = int(input())\n",
        "    for i in range(T):\n",
        "        k = int(input())\n",
        "        n = int(input())\n",
        "\n",
        "        cnt = [i for i in range(1,n+1)]\n",
        "        \n",
        "        for _ in range(k):    \n",
        "            for i in range(1,len(cnt)):\n",
        "                cnt[i]+= cnt[i-1]\n",
        "    \n",
        "\n",
        "        print(cnt[n-1])\n",
        "    \n",
        "\n",
        "\n",
        "        \n",
        "\n",
        "solution()"
      ],
      "metadata": {
        "colab": {
          "base_uri": "https://localhost:8080/"
        },
        "id": "Jz_OtMbisxp0",
        "outputId": "8c4e0bc0-595c-4a05-a6de-337134b7ee96"
      },
      "execution_count": 25,
      "outputs": [
        {
          "output_type": "stream",
          "name": "stdout",
          "text": [
            "1\n",
            "3\n",
            "5\n",
            "70\n"
          ]
        }
      ]
    }
  ]
}