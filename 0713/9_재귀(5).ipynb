{
  "nbformat": 4,
  "nbformat_minor": 0,
  "metadata": {
    "colab": {
      "name": "9_재귀(5).ipynb",
      "provenance": []
    },
    "kernelspec": {
      "name": "python3",
      "display_name": "Python 3"
    },
    "language_info": {
      "name": "python"
    }
  },
  "cells": [
    {
      "cell_type": "code",
      "execution_count": null,
      "metadata": {
        "id": "VgDWC7Iop44t"
      },
      "outputs": [],
      "source": [
        "### 11729 하노이 탑\u001b"
      ]
    },
    {
      "cell_type": "code",
      "source": [
        "N=int(input())\n",
        "print(2**N-1)\n",
        "def hanoi(N,a,b,c):\n",
        "    \n",
        "    #a-시작\n",
        "    #b-목표\n",
        "    #c-보조\n",
        "    if N == 1:\n",
        "        print(a,b)\n",
        "        return\n",
        "    hanoi(N-1,a,c,b)\n",
        "    print(a,b)\n",
        "    hanoi(N-1,c,b,a)\n",
        "\n",
        "hanoi(N,1,3,2)"
      ],
      "metadata": {
        "colab": {
          "base_uri": "https://localhost:8080/"
        },
        "id": "FeNcOzwJfyxw",
        "outputId": "e4af2027-c3d0-4aed-fc76-d31c37492b4d"
      },
      "execution_count": 18,
      "outputs": [
        {
          "output_type": "stream",
          "name": "stdout",
          "text": [
            "3\n",
            "7\n",
            "1 3\n",
            "1 2\n",
            "3 2\n",
            "1 3\n",
            "2 1\n",
            "2 3\n",
            "1 3\n"
          ]
        }
      ]
    }
  ]
}