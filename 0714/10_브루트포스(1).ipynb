{
  "nbformat": 4,
  "nbformat_minor": 0,
  "metadata": {
    "colab": {
      "name": "10_브루트포스(1).ipynb",
      "provenance": [],
      "collapsed_sections": []
    },
    "kernelspec": {
      "name": "python3",
      "display_name": "Python 3"
    },
    "language_info": {
      "name": "python"
    }
  },
  "cells": [
    {
      "cell_type": "code",
      "execution_count": 2,
      "metadata": {
        "id": "KZc0He7alowN"
      },
      "outputs": [],
      "source": [
        "##2798번 블랙잭"
      ]
    },
    {
      "cell_type": "code",
      "source": [
        "N, M= map(int,input().split())\n",
        "c = list(map(int,input().split()))\n",
        "\n",
        "\n",
        "out = []\n",
        "out1 = []\n",
        "for i in c:\n",
        "    a = [item for item in c if item != i]\n",
        "    for j in a:\n",
        "        b = [item for item in a if item != j]\n",
        "        for k in b:\n",
        "            if sum([i,j,k]) >M:\n",
        "                continue\n",
        "            else:\n",
        "                #print(sum([i,j,k]))\n",
        "                out.append(sum([i,j,k]))\n",
        "                out1.append(M-sum([i,j,k]))\n",
        "            \n",
        "\n",
        "print(out[out1.index(min(out1))])\n",
        "        "
      ],
      "metadata": {
        "colab": {
          "base_uri": "https://localhost:8080/"
        },
        "id": "h-oJSeL1m0K_",
        "outputId": "c0f41c12-2386-40bb-a2dc-303e0c4f09fc"
      },
      "execution_count": 75,
      "outputs": [
        {
          "output_type": "stream",
          "name": "stdout",
          "text": [
            "10 500\n",
            "93 181 245 214 315 36 185 138 216 295\n",
            "497\n"
          ]
        }
      ]
    },
    {
      "cell_type": "code",
      "source": [
        ""
      ],
      "metadata": {
        "id": "RQFKaY8KrN47"
      },
      "execution_count": null,
      "outputs": []
    }
  ]
}