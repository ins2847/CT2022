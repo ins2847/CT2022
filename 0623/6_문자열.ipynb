{
  "nbformat": 4,
  "nbformat_minor": 0,
  "metadata": {
    "colab": {
      "name": "\b6_문자열.ipynb",
      "provenance": [],
      "collapsed_sections": []
    },
    "kernelspec": {
      "name": "python3",
      "display_name": "Python 3"
    },
    "language_info": {
      "name": "python"
    }
  },
  "cells": [
    {
      "cell_type": "code",
      "source": [
        "### 11654번 아스키 코드m"
      ],
      "metadata": {
        "id": "IcNIN66NwXNt"
      },
      "execution_count": null,
      "outputs": []
    },
    {
      "cell_type": "code",
      "execution_count": 2,
      "metadata": {
        "colab": {
          "base_uri": "https://localhost:8080/"
        },
        "id": "HJIGyDbpK-9u",
        "outputId": "f401d838-8a1f-454a-8a16-8e9194846a04"
      },
      "outputs": [
        {
          "output_type": "stream",
          "name": "stdout",
          "text": [
            "65\n"
          ]
        }
      ],
      "source": [
        "def solution() :\n",
        "    a = str(input())\n",
        "    print(ord(a))\n",
        "solution()"
      ]
    },
    {
      "cell_type": "code",
      "source": [
        "### 11720번 숫자의합"
      ],
      "metadata": {
        "id": "7qyc_tPXwcKw"
      },
      "execution_count": null,
      "outputs": []
    },
    {
      "cell_type": "code",
      "source": [
        "def solution():\n",
        "    N = int(input())\n",
        "    num = input()\n",
        "    list_sum = sum([int(i) for i in num])\n",
        "    print(list_sum)\n",
        "solution()\n",
        "    "
      ],
      "metadata": {
        "colab": {
          "base_uri": "https://localhost:8080/"
        },
        "id": "ZXeUCOqxxy2c",
        "outputId": "4476a959-afa2-4746-e64e-682e777b2b0a"
      },
      "execution_count": 48,
      "outputs": [
        {
          "output_type": "stream",
          "name": "stdout",
          "text": [
            "3\n",
            "123\n",
            "6\n"
          ]
        }
      ]
    },
    {
      "cell_type": "code",
      "source": [
        "#10809 알파벳 찾기"
      ],
      "metadata": {
        "id": "F-TtoUbax7fC"
      },
      "execution_count": 51,
      "outputs": []
    },
    {
      "cell_type": "code",
      "source": [
        "def solution():\n",
        "    S = input()\n",
        "    a = ''\n",
        "    for i in range(97,122+1):\n",
        "        print(str(S.find(chr(i))))\n",
        "    \n",
        "    \n",
        "solution()\n",
        "\n"
      ],
      "metadata": {
        "colab": {
          "base_uri": "https://localhost:8080/"
        },
        "id": "GIuilOfc3aqS",
        "outputId": "f02bad80-10b5-423f-beb9-546412ef2ad3"
      },
      "execution_count": 77,
      "outputs": [
        {
          "output_type": "stream",
          "name": "stdout",
          "text": [
            "baekjoon\n",
            "1\n",
            "0\n",
            "-1\n",
            "-1\n",
            "2\n",
            "-1\n",
            "-1\n",
            "-1\n",
            "-1\n",
            "4\n",
            "3\n",
            "-1\n",
            "-1\n",
            "7\n",
            "5\n",
            "-1\n",
            "-1\n",
            "-1\n",
            "-1\n",
            "-1\n",
            "-1\n",
            "-1\n",
            "-1\n",
            "-1\n",
            "-1\n",
            "-1\n"
          ]
        }
      ]
    },
    {
      "cell_type": "code",
      "source": [
        "### 2675 문자열 반복"
      ],
      "metadata": {
        "id": "ieulgLL07qpP"
      },
      "execution_count": null,
      "outputs": []
    },
    {
      "cell_type": "code",
      "source": [
        "def solution():\n",
        "    T = int(input())\n",
        "    \n",
        "    for i in range(T):\n",
        "        R, S = map(str, input().split())\n",
        "        a = ''\n",
        "        #T, R, S = map(str, input().split())\n",
        "        for j in S:\n",
        "            a = a+j*int(R)\n",
        "        print(a)\n",
        "solution()"
      ],
      "metadata": {
        "id": "RIrpcDFE2tVc"
      },
      "execution_count": 95,
      "outputs": []
    },
    {
      "cell_type": "code",
      "source": [
        "### 1157 단어공부"
      ],
      "metadata": {
        "id": "opUpTXrU7ooI"
      },
      "execution_count": null,
      "outputs": []
    },
    {
      "cell_type": "code",
      "source": [
        "def solution():\n",
        "    word = input().upper()\n",
        "    word_list = list(set(word))\n",
        "    count_list = []\n",
        "    for i in range(len(word_list)):\n",
        "        count_list.append(word.count(word_list[i]))\n",
        "    count_max = max(count_list)\n",
        "    \n",
        "    if count_list.count(count_max) >1 :\n",
        "        print('?')\n",
        "    else :\n",
        "        print(\n",
        "            word_list[count_list.index(count_max)]\n",
        "        )\n",
        "solution()"
      ],
      "metadata": {
        "colab": {
          "base_uri": "https://localhost:8080/"
        },
        "id": "_qTm_vFX7pBD",
        "outputId": "8dc56056-34b9-43ed-99d2-4c5328d72dd0"
      },
      "execution_count": 127,
      "outputs": [
        {
          "output_type": "stream",
          "name": "stdout",
          "text": [
            "abMMM\n",
            "M\n"
          ]
        }
      ]
    },
    {
      "cell_type": "code",
      "source": [
        ""
      ],
      "metadata": {
        "id": "NpjgID0V7pSf"
      },
      "execution_count": null,
      "outputs": []
    }
  ]
}