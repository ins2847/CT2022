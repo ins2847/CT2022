{
 "cells": [
  {
   "cell_type": "code",
   "execution_count": 61,
   "id": "b35a3efc",
   "metadata": {},
   "outputs": [
    {
     "name": "stdout",
     "output_type": "stream",
     "text": [
      "3 3\n",
      "1 1 1\n",
      "2 2 2\n",
      "0 1 0\n",
      "3 3 3\n",
      "4 4 4\n",
      "5 5 100\n",
      "4 4 4 \n",
      "\n",
      "6 6 6 \n",
      "\n",
      "5 6 100 \n",
      "\n"
     ]
    }
   ],
   "source": [
    "#2738\n",
    "N,M = map(int, input().split())\n",
    "\n",
    "list_num = []\n",
    "for i in range(N):\n",
    "\n",
    "    list_num.append(list(map(int,input().split())))\n",
    "    \n",
    "temp = []\n",
    "\n",
    "for i in range(N):\n",
    "    temp.append(list(map(int,input().split())))\n",
    "    \n",
    "    for j in range(M):\n",
    "        temp[i][j]+=int(list_num[i][j])\n",
    "for i in range(N):\n",
    "    for j in range(M):\n",
    "        print(temp[i][j], end = ' ')\n",
    "    \n"
   ]
  }
 ],
 "metadata": {
  "kernelspec": {
   "display_name": "Python 3 (ipykernel)",
   "language": "python",
   "name": "python3"
  },
  "language_info": {
   "codemirror_mode": {
    "name": "ipython",
    "version": 3
   },
   "file_extension": ".py",
   "mimetype": "text/x-python",
   "name": "python",
   "nbconvert_exporter": "python",
   "pygments_lexer": "ipython3",
   "version": "3.9.0b1"
  }
 },
 "nbformat": 4,
 "nbformat_minor": 5
}
