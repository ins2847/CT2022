{
  "nbformat": 4,
  "nbformat_minor": 0,
  "metadata": {
    "colab": {
      "name": "9_재귀(3)",
      "provenance": []
    },
    "kernelspec": {
      "name": "python3",
      "display_name": "Python 3"
    },
    "language_info": {
      "name": "python"
    }
  },
  "cells": [
    {
      "cell_type": "code",
      "execution_count": null,
      "metadata": {
        "id": "_1HNGJarfJOC"
      },
      "outputs": [],
      "source": [
        "### 17478 재귀함수가 뭔가요 ?"
      ]
    },
    {
      "cell_type": "code",
      "source": [
        "def solution(M):\n",
        "    \n",
        "    print('_'*4*(N-M),'\"재귀함수가 뭔가요?\"',sep='')\n",
        "    \n",
        "    \n",
        "    if M==0:\n",
        "        print('_'*4*(N-M),'\"재귀함수는 자기 자신을 호출하는 함수라네\"',sep='')\n",
        "        return\n",
        "\n",
        "    print('_'*4*(N-M),'\"잘 들어보게. 옛날옛날 한 산 꼭대기에 이세상 모든 지식을 통달한 선인이 있었어.',sep='')\n",
        "    print('_'*4*(N-M),\"마을 사람들은 모두 그 선인에게 수많은 질문을 했고, 모두 지혜롭게 대답해 주었지.\",sep='')\n",
        "    print('_'*4*(N-M),'그의 답은 대부분 옳았다고 하네. 그런데 어느 날, 그 선인에게 한 선비가 찾아와서 물었어.\"',sep='')\n",
        "    M-=1\n",
        "    solution(M)\n",
        "def solution2(M):\n",
        "    print('_'*4*(M),'라고 답변하였지.',sep='')\n",
        "    if M==0:\n",
        "        return\n",
        "    \n",
        "    M-=1\n",
        "    solution2(M)\n",
        "N = int(input())\n",
        "M=N\n",
        "print('어느 한 컴퓨터공학과 학생이 유명한 교수님을 찾아가 물었다.')\n",
        "solution(M)\n",
        "solution2(M)\n"
      ],
      "metadata": {
        "colab": {
          "base_uri": "https://localhost:8080/"
        },
        "id": "p2SwOBT6fTir",
        "outputId": "70dd716f-c934-4e5a-870d-feb280a6a227"
      },
      "execution_count": 58,
      "outputs": [
        {
          "output_type": "stream",
          "name": "stdout",
          "text": [
            "2\n",
            "어느 한 컴퓨터공학과 학생이 유명한 교수님을 찾아가 물었다.\n",
            "\"재귀함수가 뭔가요?\"\n",
            "\"잘 들어보게. 옛날옛날 한 산 꼭대기에 이세상 모든 지식을 통달한 선인이 있었어.\n",
            "마을 사람들은 모두 그 선인에게 수많은 질문을 했고, 모두 지혜롭게 대답해 주었지.\n",
            "그의 답은 대부분 옳았다고 하네. 그런데 어느 날, 그 선인에게 한 선비가 찾아와서 물었어.\"\n",
            "____\"재귀함수가 뭔가요?\"\n",
            "____\"잘 들어보게. 옛날옛날 한 산 꼭대기에 이세상 모든 지식을 통달한 선인이 있었어.\n",
            "____마을 사람들은 모두 그 선인에게 수많은 질문을 했고, 모두 지혜롭게 대답해 주었지.\n",
            "____그의 답은 대부분 옳았다고 하네. 그런데 어느 날, 그 선인에게 한 선비가 찾아와서 물었어.\"\n",
            "________\"재귀함수가 뭔가요?\"\n",
            "________\"재귀함수는 자기 자신을 호출하는 함수라네\"\n",
            "________라고 답변하였지.\n",
            "____라고 답변하였지.\n",
            "라고 답변하였지.\n"
          ]
        }
      ]
    }
  ]
}