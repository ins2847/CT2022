{
  "nbformat": 4,
  "nbformat_minor": 0,
  "metadata": {
    "colab": {
      "name": "7_1_기본수학2.ipynb",
      "provenance": []
    },
    "kernelspec": {
      "name": "python3",
      "display_name": "Python 3"
    },
    "language_info": {
      "name": "python"
    }
  },
  "cells": [
    {
      "cell_type": "code",
      "execution_count": 1,
      "metadata": {
        "id": "7l_Dzh5W8D3F"
      },
      "outputs": [],
      "source": [
        "## 2581번 소수"
      ]
    },
    {
      "cell_type": "code",
      "source": [
        "def solution():\n",
        "    a = int(input())\n",
        "    b = int(input())\n",
        "    num_list = []\n",
        "    if a == 1:\n",
        "        a=2\n",
        "    for num in range(a,b+1):\n",
        "        e = 0\n",
        "        for i in range(2,num):\n",
        "            if num%i == 0:\n",
        "                e+=1\n",
        "        if e==0:\n",
        "            num_list.append(num)\n",
        "    if len(num_list)==0:\n",
        "        print(-1)\n",
        "    else:\n",
        "        print(sum(num_list))\n",
        "        print(min(num_list))\n",
        "\n",
        "solution()\n"
      ],
      "metadata": {
        "colab": {
          "base_uri": "https://localhost:8080/"
        },
        "id": "esE2ZcZy8F9k",
        "outputId": "74c83979-2f58-414e-c831-7ba85518d713"
      },
      "execution_count": 14,
      "outputs": [
        {
          "output_type": "stream",
          "name": "stdout",
          "text": [
            "1\n",
            "6\n",
            "10\n",
            "2\n"
          ]
        }
      ]
    }
  ]
}