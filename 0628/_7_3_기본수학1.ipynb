{
  "nbformat": 4,
  "nbformat_minor": 0,
  "metadata": {
    "colab": {
      "name": "\b7_3_기본수학1.ipynb",
      "provenance": [],
      "collapsed_sections": []
    },
    "kernelspec": {
      "name": "python3",
      "display_name": "Python 3"
    },
    "language_info": {
      "name": "python"
    }
  },
  "cells": [
    {
      "cell_type": "code",
      "source": [
        "### 10250 ACM 호텔"
      ],
      "metadata": {
        "id": "a2KZXp2OVWt4"
      },
      "execution_count": null,
      "outputs": []
    },
    {
      "cell_type": "code",
      "execution_count": 49,
      "metadata": {
        "colab": {
          "base_uri": "https://localhost:8080/"
        },
        "id": "rvSzUQeLJ_A2",
        "outputId": "95f6afc0-c9a8-4ae6-a786-a1ca95349f7e"
      },
      "outputs": [
        {
          "output_type": "stream",
          "name": "stdout",
          "text": [
            "2\n",
            "6 12 10\n",
            "402\n",
            "30 50 72\n",
            "1203\n"
          ]
        }
      ],
      "source": [
        "def solution():\n",
        "    T = int(input())\n",
        "    for i in range(T):\n",
        "        H,W,N = map(int,input().split())\n",
        "\n",
        "    \n",
        "        ##몫\n",
        "        room_W = (N//H)+1\n",
        "        ##나머지\n",
        "        room_H = N%H\n",
        "\n",
        "        if room_H ==0:\n",
        "            #print('zero')\n",
        "            room_W-=1\n",
        "            room_H = H\n",
        "\n",
        "        room = room_H*100+room_W\n",
        "        print(room)\n",
        "\n",
        "solution()"
      ]
    }
  ]
}