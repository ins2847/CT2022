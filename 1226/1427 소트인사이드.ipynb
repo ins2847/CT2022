{
 "cells": [
  {
   "cell_type": "markdown",
   "id": "423b9f18",
   "metadata": {},
   "source": [
    "### 문제 1427\n",
    "배열을 정렬하는 것은 쉽다. 수가 주어지면, 그 수의 각 자리수를 내림차순으로 정렬해보자.\n",
    "\n",
    "입력\n",
    "첫째 줄에 정렬하려고 하는 수 N이 주어진다. N은 1,000,000,000보다 작거나 같은 자연수이다.\n",
    "\n",
    "출력\n",
    "첫째 줄에 자리수를 내림차순으로 정렬한 수를 출력한다."
   ]
  },
  {
   "cell_type": "code",
   "execution_count": 39,
   "id": "e6ad6773",
   "metadata": {},
   "outputs": [
    {
     "name": "stdout",
     "output_type": "stream",
     "text": [
      "2143\n",
      "4321"
     ]
    }
   ],
   "source": [
    "N = input()\n",
    "N_list = [0]*len(N)\n",
    "N_list\n",
    "for i, N in enumerate(N):\n",
    "    N_list[i] = int(N)\n",
    "    \n",
    "N_list.sort(reverse=True)\n",
    "\n",
    "for i in N_list :\n",
    "    print(i , end='')"
   ]
  },
  {
   "cell_type": "code",
   "execution_count": 17,
   "id": "fa7f37bc",
   "metadata": {},
   "outputs": [],
   "source": []
  }
 ],
 "metadata": {
  "kernelspec": {
   "display_name": "Python 3 (ipykernel)",
   "language": "python",
   "name": "python3"
  },
  "language_info": {
   "codemirror_mode": {
    "name": "ipython",
    "version": 3
   },
   "file_extension": ".py",
   "mimetype": "text/x-python",
   "name": "python",
   "nbconvert_exporter": "python",
   "pygments_lexer": "ipython3",
   "version": "3.9.0b1"
  }
 },
 "nbformat": 4,
 "nbformat_minor": 5
}
