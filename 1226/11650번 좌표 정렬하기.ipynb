{
 "cells": [
  {
   "cell_type": "markdown",
   "id": "b34d7d7a",
   "metadata": {},
   "source": [
    "### 문제 11650번\n",
    "2차원 평면 위의 점 N개가 주어진다. 좌표를 x좌표가 증가하는 순으로, x좌표가 같으면 y좌표가 증가하는 순서로 정렬한 다음 출력하는 프로그램을 작성하시오.\n",
    "\n",
    "입력\n",
    "첫째 줄에 점의 개수 N (1 ≤ N ≤ 100,000)이 주어진다. 둘째 줄부터 N개의 줄에는 i번점의 위치 xi와 yi가 주어진다. (-100,000 ≤ xi, yi ≤ 100,000) 좌표는 항상 정수이고, 위치가 같은 두 점은 없다.\n",
    "\n",
    "출력\n",
    "첫째 줄부터 N개의 줄에 점을 정렬한 결과를 출력한다."
   ]
  },
  {
   "cell_type": "code",
   "execution_count": 16,
   "id": "e8b51ffc",
   "metadata": {},
   "outputs": [
    {
     "name": "stdout",
     "output_type": "stream",
     "text": [
      "5\n",
      "3 4\n",
      "1 1\n",
      "1 -1\n",
      "2 2\n",
      "3 3\n",
      "1 -1\n",
      "1 1\n",
      "2 2\n",
      "3 3\n",
      "3 4\n"
     ]
    }
   ],
   "source": [
    "N = int(input())\n",
    "N_list = [0]*N\n",
    "for i, num in enumerate(range(N)):\n",
    "    a,b = map(int, input().split())\n",
    "    N_list[i] = (a,b)\n",
    "\n",
    "N_list.sort()\n",
    "\n",
    "for i in N_list:\n",
    "    print(i[0],i[1])"
   ]
  },
  {
   "cell_type": "code",
   "execution_count": null,
   "id": "9ec89487",
   "metadata": {},
   "outputs": [],
   "source": []
  }
 ],
 "metadata": {
  "kernelspec": {
   "display_name": "Python 3 (ipykernel)",
   "language": "python",
   "name": "python3"
  },
  "language_info": {
   "codemirror_mode": {
    "name": "ipython",
    "version": 3
   },
   "file_extension": ".py",
   "mimetype": "text/x-python",
   "name": "python",
   "nbconvert_exporter": "python",
   "pygments_lexer": "ipython3",
   "version": "3.9.0b1"
  }
 },
 "nbformat": 4,
 "nbformat_minor": 5
}
