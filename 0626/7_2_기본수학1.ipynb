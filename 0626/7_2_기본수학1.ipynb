{
  "nbformat": 4,
  "nbformat_minor": 0,
  "metadata": {
    "colab": {
      "name": "7_2_기본수학1.ipynb",
      "provenance": [],
      "collapsed_sections": []
    },
    "kernelspec": {
      "name": "python3",
      "display_name": "Python 3"
    },
    "language_info": {
      "name": "python"
    }
  },
  "cells": [
    {
      "cell_type": "code",
      "execution_count": null,
      "metadata": {
        "id": "Ooi1U6Hws3-D"
      },
      "outputs": [],
      "source": [
        "#### 2869번 달팽이는 올라가고 싶다"
      ]
    },
    {
      "cell_type": "code",
      "source": [
        "def solution():\n",
        "    A, B, V = map(int,input().split())\n",
        "\n",
        "    day = (V-B)/(A-B)\n",
        "    if day==int(day) : \n",
        "        day = int(day)\n",
        "    else :\n",
        "        day = int(day)+1 \n",
        "\n",
        "    print(int(day))\n",
        "    \n",
        "\n",
        "\n",
        "\n",
        "solution()"
      ],
      "metadata": {
        "colab": {
          "base_uri": "https://localhost:8080/"
        },
        "id": "z9TVKpx9yHc5",
        "outputId": "2d86b6ba-b92e-4057-d70c-471d272bb6bd"
      },
      "execution_count": 62,
      "outputs": [
        {
          "output_type": "stream",
          "name": "stdout",
          "text": [
            "2 1 5\n",
            "4\n"
          ]
        }
      ]
    }
  ]
}