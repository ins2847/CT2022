{
  "nbformat": 4,
  "nbformat_minor": 0,
  "metadata": {
    "colab": {
      "name": "6_2_문자열.ipynb",
      "provenance": [],
      "collapsed_sections": []
    },
    "kernelspec": {
      "name": "python3",
      "display_name": "Python 3"
    },
    "language_info": {
      "name": "python"
    }
  },
  "cells": [
    {
      "cell_type": "code",
      "execution_count": null,
      "metadata": {
        "id": "XJvBGYS_j-Hv"
      },
      "outputs": [],
      "source": [
        "## 1152 단어의 갯수"
      ]
    },
    {
      "cell_type": "code",
      "source": [
        "def solution():\n",
        "    s = input()\n",
        "    print(len(s.split()))\n",
        "solution()"
      ],
      "metadata": {
        "id": "pBh_km26kKZe"
      },
      "execution_count": null,
      "outputs": []
    },
    {
      "cell_type": "code",
      "source": [
        "## 2908번 상수"
      ],
      "metadata": {
        "id": "Gg08Q69HkUqV"
      },
      "execution_count": 7,
      "outputs": []
    },
    {
      "cell_type": "code",
      "source": [
        "def solution():\n",
        "    A, B = input().split()\n",
        "    A = int(A[::-1])\n",
        "    B = int(B[::-1])\n",
        "    print(max(A,B))\n",
        "\n",
        "solution()"
      ],
      "metadata": {
        "colab": {
          "base_uri": "https://localhost:8080/"
        },
        "id": "FG_Ns1ouks6n",
        "outputId": "842c220f-e489-4281-c8c2-d4fd49362065"
      },
      "execution_count": 16,
      "outputs": [
        {
          "output_type": "stream",
          "name": "stdout",
          "text": [
            "734 893\n",
            "437\n"
          ]
        }
      ]
    },
    {
      "cell_type": "code",
      "source": [
        "## 5622 다이얼"
      ],
      "metadata": {
        "id": "YkxIeNyNmb89"
      },
      "execution_count": 17,
      "outputs": []
    },
    {
      "cell_type": "code",
      "source": [
        "\n",
        "def solution():\n",
        "    alp = ['abc','def','ghi','jkl','mno','pqrs','tuv','wxyz']\n",
        "    time = 0\n",
        "    a = input().lower()\n",
        "\n",
        "    for i in a :\n",
        "        for j in alp :\n",
        "            if i in j :\n",
        "                time+= alp.index(j)+3\n",
        "    print(time)\n",
        "                \n",
        "                \n",
        "\n",
        "solution()\n"
      ],
      "metadata": {
        "colab": {
          "base_uri": "https://localhost:8080/"
        },
        "id": "qafl6GDqnUuU",
        "outputId": "8dac86ad-9a95-4f3e-9173-aa2be044bd37"
      },
      "execution_count": 35,
      "outputs": [
        {
          "output_type": "stream",
          "name": "stdout",
          "text": [
            "WA\n",
            "13\n"
          ]
        }
      ]
    },
    {
      "cell_type": "code",
      "source": [
        "## 2941번 크로아티아 알파벳"
      ],
      "metadata": {
        "id": "TQnUTX0TnXdN"
      },
      "execution_count": null,
      "outputs": []
    },
    {
      "cell_type": "code",
      "source": [
        "def solution():\n",
        "    c_alp = ['c=','c-','dz=','d-','lj','nj','s=','z=']\n",
        "    alp = input()\n",
        "\n",
        "    for i in c_alp :\n",
        "        alp = alp.replace(i,'*')\n",
        "    print(len(alp))\n",
        "\n",
        "\n",
        "solution()"
      ],
      "metadata": {
        "colab": {
          "base_uri": "https://localhost:8080/"
        },
        "id": "q15RzFyanX0e",
        "outputId": "af16466f-03c9-4ce8-8d79-6ccd0928d564"
      },
      "execution_count": 47,
      "outputs": [
        {
          "output_type": "stream",
          "name": "stdout",
          "text": [
            "ljes=njak\n",
            "6\n"
          ]
        }
      ]
    },
    {
      "cell_type": "code",
      "source": [
        "## 1316번 그룹 단어 체커"
      ],
      "metadata": {
        "id": "uKOMhylIrsEI"
      },
      "execution_count": 41,
      "outputs": []
    },
    {
      "cell_type": "code",
      "source": [
        "def solution():\n",
        "    N = int(input())\n",
        "    \n",
        "    for J in range(N):\n",
        "        word = input().lower()\n",
        "        for i in range(len(word)-1):\n",
        "            if word[i]!=word[i+1]:\n",
        "                if word[i] in word[i+1:] :\n",
        "                    N-=1\n",
        "                    break\n",
        "        \n",
        "    print(N)\n",
        "solution()"
      ],
      "metadata": {
        "colab": {
          "base_uri": "https://localhost:8080/"
        },
        "id": "iLVLPdu8x3SN",
        "outputId": "f74ae686-b754-4fb8-b3ce-ac88b2a02eae"
      },
      "execution_count": 68,
      "outputs": [
        {
          "output_type": "stream",
          "name": "stdout",
          "text": [
            "4\n",
            "aba\n",
            "abab\n",
            "abcabc\n",
            "a\n",
            "1\n"
          ]
        }
      ]
    }
  ]
}