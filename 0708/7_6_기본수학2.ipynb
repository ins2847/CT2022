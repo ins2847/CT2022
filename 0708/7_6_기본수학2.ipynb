{
  "nbformat": 4,
  "nbformat_minor": 0,
  "metadata": {
    "colab": {
      "name": "7_6_기본수학2.ipynb",
      "provenance": []
    },
    "kernelspec": {
      "name": "python3",
      "display_name": "Python 3"
    },
    "language_info": {
      "name": "python"
    }
  },
  "cells": [
    {
      "cell_type": "code",
      "execution_count": null,
      "metadata": {
        "id": "z7Ck7s5612EB"
      },
      "outputs": [],
      "source": [
        "## 9020 골드바흐의 추측"
      ]
    },
    {
      "cell_type": "code",
      "source": [
        "##제한 범위내 전체 소수\n",
        "num = []\n",
        "for i in range(2,10000+1):\n",
        "    for j in range(2,int(i**0.5)+1):\n",
        "        if i%j==0:\n",
        "            break\n",
        "    else:\n",
        "        num.append(i)\n"
      ],
      "metadata": {
        "id": "t7NsptZK21a8"
      },
      "execution_count": 11,
      "outputs": []
    },
    {
      "cell_type": "code",
      "source": [
        "#테스트 횟수\n",
        "T = int(input())"
      ],
      "metadata": {
        "colab": {
          "base_uri": "https://localhost:8080/"
        },
        "id": "B8B5Pc3L19iR",
        "outputId": "215323e7-27d8-45eb-cdbe-70406d9dde0e"
      },
      "execution_count": 1,
      "outputs": [
        {
          "name": "stdout",
          "output_type": "stream",
          "text": [
            "1\n"
          ]
        }
      ]
    },
    {
      "cell_type": "code",
      "source": [
        "#숫자 받기\n",
        "n = int(input())\n",
        "#중간수로 시작\n",
        "n2 = int(n/2)\n"
      ],
      "metadata": {
        "colab": {
          "base_uri": "https://localhost:8080/"
        },
        "id": "GJrpXjYU2Xg6",
        "outputId": "d8e0cc75-d153-431b-b7d8-fdb6ce1f507e"
      },
      "execution_count": 29,
      "outputs": [
        {
          "name": "stdout",
          "output_type": "stream",
          "text": [
            "16\n"
          ]
        }
      ]
    },
    {
      "cell_type": "code",
      "source": [
        "while True:\n",
        "    if (n2 in num) and (n-n2 in num):\n",
        "        print(n2,n-n2)\n",
        "        break\n",
        "    else :\n",
        "        n2-=1"
      ],
      "metadata": {
        "colab": {
          "base_uri": "https://localhost:8080/"
        },
        "id": "E31DIKkq5GuY",
        "outputId": "53c26f00-ef41-4905-fe6f-7629bfff81ec"
      },
      "execution_count": 30,
      "outputs": [
        {
          "output_type": "stream",
          "name": "stdout",
          "text": [
            "5 11\n"
          ]
        }
      ]
    },
    {
      "cell_type": "code",
      "source": [
        "##제한 범위내 전체 소수\n",
        "num = []\n",
        "for i in range(2,10000+1):\n",
        "    for j in range(2,int(i**0.5)+1):\n",
        "        if i%j==0:\n",
        "            break\n",
        "    else:\n",
        "        num.append(i)\n",
        "\n",
        "#테스트 횟수\n",
        "T = int(input())\n",
        "\n",
        "for i in range(T):\n",
        "    #숫자 받기\n",
        "    n = int(input())\n",
        "    #중간수로 시작\n",
        "    n2 = int(n/2)\n",
        "\n",
        "\n",
        "    while True:\n",
        "        if (n2 in num) and (n-n2 in num):\n",
        "            print(n2,n-n2)\n",
        "            break\n",
        "        else :\n",
        "            n2-=1"
      ],
      "metadata": {
        "colab": {
          "base_uri": "https://localhost:8080/"
        },
        "id": "r3dNeNPh6OmQ",
        "outputId": "3815ac2e-3dcc-46b5-9d79-d35f15776e4a"
      },
      "execution_count": 31,
      "outputs": [
        {
          "output_type": "stream",
          "name": "stdout",
          "text": [
            "3\n",
            "8\n",
            "3 5\n",
            "10\n",
            "5 5\n",
            "16\n",
            "5 11\n"
          ]
        }
      ]
    }
  ]
}