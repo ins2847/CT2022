{
  "nbformat": 4,
  "nbformat_minor": 0,
  "metadata": {
    "colab": {
      "name": "7_5_기본수학.ipynb",
      "provenance": [],
      "collapsed_sections": []
    },
    "kernelspec": {
      "name": "python3",
      "display_name": "Python 3"
    },
    "language_info": {
      "name": "python"
    }
  },
  "cells": [
    {
      "cell_type": "code",
      "execution_count": 1,
      "metadata": {
        "id": "o4ZYpRIeYe6g"
      },
      "outputs": [],
      "source": [
        "### 2839 설탕 배달"
      ]
    },
    {
      "cell_type": "code",
      "source": [
        "def solution():\n",
        "    N = int(input())\n",
        "    cnt = 0\n",
        "    #주머니 갯수\n",
        "    while N >=0 :\n",
        "        if N%5==0:\n",
        "            cnt+= int(N//5)\n",
        "            print(cnt)\n",
        "            break\n",
        "        N-=3\n",
        "        cnt+=1\n",
        "    else:\n",
        "        print(-1)\n",
        "    # //-몫 , %-나머지\n",
        "    \n",
        "\n",
        "    \n",
        "\n",
        "\n",
        "solution()"
      ],
      "metadata": {
        "colab": {
          "base_uri": "https://localhost:8080/"
        },
        "id": "UhhgbrrLZMVY",
        "outputId": "c8c47d37-9f74-4e6b-c342-3ca57a9f2d47"
      },
      "execution_count": 28,
      "outputs": [
        {
          "output_type": "stream",
          "name": "stdout",
          "text": [
            "6\n",
            "2\n"
          ]
        }
      ]
    }
  ]
}