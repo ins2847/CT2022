{
  "nbformat": 4,
  "nbformat_minor": 0,
  "metadata": {
    "colab": {
      "name": "9_1_재귀(1,2)",
      "provenance": [],
      "collapsed_sections": []
    },
    "kernelspec": {
      "name": "python3",
      "display_name": "Python 3"
    },
    "language_info": {
      "name": "python"
    }
  },
  "cells": [
    {
      "cell_type": "code",
      "execution_count": null,
      "metadata": {
        "id": "rMkmSqKExRcR"
      },
      "outputs": [],
      "source": [
        "### 10872 팩토리얼"
      ]
    },
    {
      "cell_type": "code",
      "source": [
        "N = int(input())\n",
        "k = 1\n",
        "for i in range(1,N+1):\n",
        "    k*=i\n",
        "print(k)"
      ],
      "metadata": {
        "colab": {
          "base_uri": "https://localhost:8080/"
        },
        "id": "jT2Zmr-kzfFg",
        "outputId": "342568ba-14dc-412c-857b-29c52ebcfe96"
      },
      "execution_count": 13,
      "outputs": [
        {
          "name": "stdout",
          "output_type": "stream",
          "text": [
            "0\n"
          ]
        },
        {
          "output_type": "execute_result",
          "data": {
            "text/plain": [
              "1"
            ]
          },
          "metadata": {},
          "execution_count": 13
        }
      ]
    },
    {
      "cell_type": "code",
      "source": [
        "###10870번 피보나치 수5"
      ],
      "metadata": {
        "id": "f8kBEsuEz-Rp"
      },
      "execution_count": 14,
      "outputs": []
    },
    {
      "cell_type": "code",
      "source": [
        "N = int(input())\n",
        "num = [0,1]\n",
        "\n",
        "\n",
        "for i in range(2,N+1):\n",
        "    n = num[i-2]+num[i-1]\n",
        "    num.append(n)\n",
        "\n",
        "print(num[N])\n"
      ],
      "metadata": {
        "colab": {
          "base_uri": "https://localhost:8080/"
        },
        "id": "iAd__NTr1im6",
        "outputId": "e2fa9e40-053f-4574-aeab-4c9b90ef3ac1"
      },
      "execution_count": 35,
      "outputs": [
        {
          "output_type": "stream",
          "name": "stdout",
          "text": [
            "3\n",
            "2\n"
          ]
        }
      ]
    },
    {
      "cell_type": "code",
      "source": [
        "def fibonacci(n):\n",
        "    if n <= 1:\n",
        "        return n\n",
        "    return fibonacci(n-1) + fibonacci(n-2)\n",
        "\n",
        "n = int(input())\n",
        "print(fibonacci(n))"
      ],
      "metadata": {
        "colab": {
          "base_uri": "https://localhost:8080/"
        },
        "id": "xJ-XVnkT3f13",
        "outputId": "14801542-4eff-4bc3-a063-f993174b9a3b"
      },
      "execution_count": 32,
      "outputs": [
        {
          "output_type": "stream",
          "name": "stdout",
          "text": [
            "17\n",
            "1597\n"
          ]
        }
      ]
    }
  ]
}