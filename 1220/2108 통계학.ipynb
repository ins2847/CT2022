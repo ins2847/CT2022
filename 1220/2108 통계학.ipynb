{
 "cells": [
  {
   "cell_type": "markdown",
   "id": "75eeb155",
   "metadata": {},
   "source": [
    "### 문제 2108번 통계학\n",
    "\n",
    "수를 처리하는 것은 통계학에서 상당히 중요한 일이다. 통계학에서 N개의 수를 대표하는 기본 통계값에는 다음과 같은 것들이 있다. 단, N은 홀수라고 가정하자.\n",
    "\n",
    "산술평균 : N개의 수들의 합을 N으로 나눈 값\n",
    "중앙값 : N개의 수들을 증가하는 순서로 나열했을 경우 그 중앙에 위치하는 값\n",
    "최빈값 : N개의 수들 중 가장 많이 나타나는 값\n",
    "범위 : N개의 수들 중 최댓값과 최솟값의 차이\n",
    "N개의 수가 주어졌을 때, 네 가지 기본 통계값을 구하는 프로그램을 작성하시오.\n",
    "\n",
    "입력\n",
    "\n",
    "첫째 줄에 수의 개수 N(1 ≤ N ≤ 500,000)이 주어진다. 단, N은 홀수이다. 그 다음 N개의 줄에는 정수들이 주어진다. 입력되는 정수의 절댓값은 4,000을 넘지 않는다.\n",
    "\n",
    "출력\n",
    "\n",
    "첫째 줄에는 산술평균을 출력한다. 소수점 이하 첫째 자리에서 반올림한 값을 출력한다.\n",
    "\n",
    "둘째 줄에는 중앙값을 출력한다.\n",
    "\n",
    "셋째 줄에는 최빈값을 출력한다. 여러 개 있을 때에는 최빈값 중 두 번째로 작은 값을 출력한다.\n",
    "\n",
    "넷째 줄에는 범위를 출력한다."
   ]
  },
  {
   "cell_type": "markdown",
   "id": "b66804b4",
   "metadata": {},
   "source": [
    "# int(input()) 대신 다른 것 쓰기\n",
    "# import sys\n",
    "# N = int(sys.stdin.readline())"
   ]
  },
  {
   "cell_type": "code",
   "execution_count": 441,
   "id": "f2f3ebf0",
   "metadata": {},
   "outputs": [
    {
     "ename": "ValueError",
     "evalue": "invalid literal for int() with base 10: ''",
     "output_type": "error",
     "traceback": [
      "\u001b[0;31m---------------------------------------------------------------------------\u001b[0m",
      "\u001b[0;31mValueError\u001b[0m                                Traceback (most recent call last)",
      "Cell \u001b[0;32mIn [441], line 4\u001b[0m\n\u001b[1;32m      1\u001b[0m \u001b[38;5;28;01mimport\u001b[39;00m \u001b[38;5;21;01msys\u001b[39;00m\n\u001b[1;32m      2\u001b[0m \u001b[38;5;28minput\u001b[39m\u001b[38;5;241m=\u001b[39msys\u001b[38;5;241m.\u001b[39mstdin\u001b[38;5;241m.\u001b[39mreadline\n\u001b[0;32m----> 4\u001b[0m N\u001b[38;5;241m=\u001b[39m\u001b[38;5;28mint\u001b[39m(\u001b[38;5;28minput\u001b[39m()\u001b[38;5;241m.\u001b[39mrstrip())\n\u001b[1;32m      6\u001b[0m \u001b[38;5;66;03m#N = int(input())\u001b[39;00m\n\u001b[1;32m      7\u001b[0m num_list \u001b[38;5;241m=\u001b[39m [\u001b[38;5;124m'\u001b[39m\u001b[38;5;124m0\u001b[39m\u001b[38;5;124m'\u001b[39m] \u001b[38;5;241m*\u001b[39m N\n",
      "\u001b[0;31mValueError\u001b[0m: invalid literal for int() with base 10: ''"
     ]
    }
   ],
   "source": [
    "import sys\n",
    "\n",
    "N = int(sys.stdin.readline())\n",
    "#N = int(input())\n",
    "num_list = ['0'] * N\n",
    "\n",
    "for i in range(N):\n",
    "    num_list[i] = int(sys.stdin.readline())\n",
    "    #num_list[i] = int(input())\n",
    "\n",
    "#평균\n",
    "print(round(sum(num_list)/N))\n",
    "\n",
    "#중앙값\n",
    "num_list.sort()\n",
    "print(num_list[N//2])\n",
    "\n",
    "#최빈값\n",
    "def dict0(list0):\n",
    "    ans = dict()\n",
    "    for i in list0:\n",
    "        if i not in ans.keys() :\n",
    "            ans[i]=1\n",
    "        else :\n",
    "            ans[i]+=1\n",
    "    return ans\n",
    "###\n",
    "dic_list = dict0(num_list)\n",
    "find_ind = []\n",
    "max_count = max(dic_list.values())\n",
    "\n",
    "if list(dic_list.values()).count(max_count) > 1:\n",
    "    sort_list = sorted(dic_list.items(),key = lambda x: (-x[1],x[0]))\n",
    "\n",
    "    for i in sort_list:\n",
    "        if i[1]==max_count:\n",
    "            find_ind.append(i)\n",
    "        else:\n",
    "            break\n",
    "        \n",
    "    print(sort_list[1][0])\n",
    "\n",
    "    \n",
    "\n",
    "#최대값이 한개 인 경우 \n",
    "else:\n",
    "    print(list(dic_list.keys())[list(dic_list.values()).index(max_count)])\n",
    "    \n",
    "\n",
    "###        \n",
    "#범위\n",
    "print(abs(num_list[-1]-num_list[0]))"
   ]
  },
  {
   "cell_type": "code",
   "execution_count": 318,
   "id": "5f194b37",
   "metadata": {},
   "outputs": [
    {
     "data": {
      "text/plain": [
       "-2"
      ]
     },
     "execution_count": 318,
     "metadata": {},
     "output_type": "execute_result"
    }
   ],
   "source": [
    "import sys\n",
    "\n",
    "N = int(sys.stdin.readline())\n",
    "#N = int(input())\n",
    "num_list = ['0'] * N\n",
    "\n",
    "for i in range(N):\n",
    "    num_list[i] = int(sys.stdin.readline())\n",
    "\n",
    "#평균\n",
    "print(round(sum(num_list)/N))\n",
    "\n",
    "#중앙값\n",
    "num_list.sort()\n",
    "print(num_list[N//2])\n",
    "\n",
    "# 최빈값 : N개의 수들 중 가장 많이 나타나는 값\n",
    "highs = [nums[0]]\n",
    "cnt = 1\n",
    "high = 0\n",
    "last = nums[0]\n",
    "idx = 0\n",
    "for i in nums[1:]:\n",
    "    if i != last:\n",
    "        if cnt > high:\n",
    "            highs = []\n",
    "            highs.append(last)\n",
    "            high = cnt\n",
    "        elif cnt == high and last not in highs:\n",
    "            highs.append(last)\n",
    "        cnt = 1\n",
    "    else:\n",
    "        cnt += 1\n",
    "    last = i\n",
    "    idx += 1\n",
    "if cnt > high:\n",
    "    highs = [last]\n",
    "elif cnt == high and last not in highs:\n",
    "    highs.append(last)\n",
    "cnt = 1\n",
    "if len(highs) == 1:\n",
    "    print(highs[0])\n",
    "else:\n",
    "    print(highs[1])\n",
    "\n",
    "    \n",
    "###        \n",
    "#범위\n",
    "print(abs(num_list[-1]-num_list[0]))"
   ]
  },
  {
   "cell_type": "code",
   "execution_count": 444,
   "id": "fb3e20e5",
   "metadata": {},
   "outputs": [
    {
     "data": {
      "text/plain": [
       "({-1: 2, -2: 2, -3: 1}, 2)"
      ]
     },
     "execution_count": 444,
     "metadata": {},
     "output_type": "execute_result"
    }
   ],
   "source": [
    "num_list = [-1,-2,-3,-1,-2]\n",
    "dic_list = dict0(num_list)\n",
    "\n",
    "max_count = max(dic_list.values())\n",
    "dic_list,max_count"
   ]
  },
  {
   "cell_type": "code",
   "execution_count": 445,
   "id": "ab3b5b3e",
   "metadata": {},
   "outputs": [
    {
     "data": {
      "text/plain": [
       "{-1: 2, -2: 2, -3: 1}"
      ]
     },
     "execution_count": 445,
     "metadata": {},
     "output_type": "execute_result"
    }
   ],
   "source": [
    "dic_list"
   ]
  },
  {
   "cell_type": "code",
   "execution_count": 446,
   "id": "562e9f41",
   "metadata": {},
   "outputs": [
    {
     "data": {
      "text/plain": [
       "2"
      ]
     },
     "execution_count": 446,
     "metadata": {},
     "output_type": "execute_result"
    }
   ],
   "source": [
    "max_count = max(dic_list.values())\n",
    "max_count"
   ]
  },
  {
   "cell_type": "code",
   "execution_count": 447,
   "id": "1777eb11",
   "metadata": {},
   "outputs": [
    {
     "data": {
      "text/plain": [
       "[dict_values([2, 2, 1])]"
      ]
     },
     "execution_count": 447,
     "metadata": {},
     "output_type": "execute_result"
    }
   ],
   "source": [
    "[dic_list.values()]"
   ]
  },
  {
   "cell_type": "code",
   "execution_count": 422,
   "id": "ed0660a1",
   "metadata": {},
   "outputs": [
    {
     "data": {
      "text/plain": [
       "2"
      ]
     },
     "execution_count": 422,
     "metadata": {},
     "output_type": "execute_result"
    }
   ],
   "source": [
    "list(dic_list.values()).count(max_count)"
   ]
  },
  {
   "cell_type": "code",
   "execution_count": 451,
   "id": "452e2c32",
   "metadata": {},
   "outputs": [
    {
     "data": {
      "text/plain": [
       "[(-2, 2), (-1, 2), (-3, 1)]"
      ]
     },
     "execution_count": 451,
     "metadata": {},
     "output_type": "execute_result"
    }
   ],
   "source": [
    "sorted(dic_list.items(), key = lambda x: (-x[1],x[0]))"
   ]
  },
  {
   "cell_type": "code",
   "execution_count": 453,
   "id": "d65da909",
   "metadata": {},
   "outputs": [
    {
     "name": "stdout",
     "output_type": "stream",
     "text": [
      "(-2, 2)\n",
      "(-1, 2)\n",
      "-1\n"
     ]
    }
   ],
   "source": [
    "sort_list = sorted(dic_list.items(),key = lambda x: (-x[1],x[0]))\n",
    "\n",
    "for i in sort_list:\n",
    "    if i[1]==max_count:\n",
    "        find_ind.append(i)\n",
    "    else:\n",
    "        break\n",
    "    print(i)\n",
    "print(sort_list[1][0])\n"
   ]
  },
  {
   "cell_type": "code",
   "execution_count": 414,
   "id": "463927c9",
   "metadata": {},
   "outputs": [
    {
     "name": "stdout",
     "output_type": "stream",
     "text": [
      "-1\n"
     ]
    }
   ],
   "source": [
    "dic_list = dict0(num_list)\n",
    "find_ind = []\n",
    "max_count = max(dic_list.values())\n",
    "\n",
    "if list(dic_list.values()).count(max_count) > 1:\n",
    "    sort_list = sorted(dic_list.items(),key = lambda x: (-x[1],x[0]))\n",
    "    \n",
    "    for i in sort_list:\n",
    "        if i[1]==max_count:\n",
    "            find_ind.append(i)\n",
    "        else:\n",
    "            break\n",
    "    print(sort_list[1][0])\n",
    "    \n",
    "\n",
    "#최대값이 한개 인 경우 \n",
    "else:\n",
    "    print(list(dic_list.keys())[list(dic_list.values()).index(max_count)])\n",
    "    \n",
    "    "
   ]
  },
  {
   "cell_type": "code",
   "execution_count": 336,
   "id": "f73389ce",
   "metadata": {},
   "outputs": [
    {
     "data": {
      "text/plain": [
       "dict_values([1, 1, 1, 1, 1])"
      ]
     },
     "execution_count": 336,
     "metadata": {},
     "output_type": "execute_result"
    }
   ],
   "source": [
    "list(dic_list.values())"
   ]
  },
  {
   "cell_type": "code",
   "execution_count": 99,
   "id": "71758126",
   "metadata": {},
   "outputs": [
    {
     "name": "stdout",
     "output_type": "stream",
     "text": [
      "4000\n"
     ]
    }
   ],
   "source": [
    "for i in range(N):\n",
    "    num_list[i] = int(input())\n"
   ]
  },
  {
   "cell_type": "code",
   "execution_count": 121,
   "id": "3b230f03",
   "metadata": {},
   "outputs": [
    {
     "data": {
      "text/plain": [
       "[4000]"
      ]
     },
     "execution_count": 121,
     "metadata": {},
     "output_type": "execute_result"
    }
   ],
   "source": [
    "num_list"
   ]
  },
  {
   "cell_type": "code",
   "execution_count": 122,
   "id": "35fe1c18",
   "metadata": {},
   "outputs": [
    {
     "name": "stdout",
     "output_type": "stream",
     "text": [
      "4000\n"
     ]
    }
   ],
   "source": [
    "#평균\n",
    "print(int(sum(num_list)/N))"
   ]
  },
  {
   "cell_type": "code",
   "execution_count": 311,
   "id": "ebd0fe27",
   "metadata": {},
   "outputs": [
    {
     "name": "stdout",
     "output_type": "stream",
     "text": [
      "4000\n"
     ]
    }
   ],
   "source": [
    "#중앙값\n",
    "num_list = [4000]\n",
    "N = 1\n",
    "print(sorted(num_list)[N//2]) if N==1 else print(num_list[0])"
   ]
  },
  {
   "cell_type": "code",
   "execution_count": 308,
   "id": "c16fa333",
   "metadata": {},
   "outputs": [
    {
     "data": {
      "text/plain": [
       "4000"
      ]
     },
     "execution_count": 308,
     "metadata": {},
     "output_type": "execute_result"
    }
   ],
   "source": [
    "sorted(num_list)[N//2] "
   ]
  },
  {
   "cell_type": "code",
   "execution_count": 304,
   "id": "13c9d9ba",
   "metadata": {},
   "outputs": [
    {
     "data": {
      "text/plain": [
       "4000"
      ]
     },
     "execution_count": 304,
     "metadata": {},
     "output_type": "execute_result"
    }
   ],
   "source": [
    "num_list[0]"
   ]
  },
  {
   "cell_type": "code",
   "execution_count": 291,
   "id": "027a22d6",
   "metadata": {},
   "outputs": [
    {
     "data": {
      "text/plain": [
       "{4000: 1}"
      ]
     },
     "execution_count": 291,
     "metadata": {},
     "output_type": "execute_result"
    }
   ],
   "source": [
    "num_list = [4000]\n",
    "dic_list = dict0(num_list)\n",
    "dic_list"
   ]
  },
  {
   "cell_type": "code",
   "execution_count": 292,
   "id": "578eb123",
   "metadata": {},
   "outputs": [
    {
     "data": {
      "text/plain": [
       "1"
      ]
     },
     "execution_count": 292,
     "metadata": {},
     "output_type": "execute_result"
    }
   ],
   "source": [
    "max(dic_list.values())"
   ]
  },
  {
   "cell_type": "code",
   "execution_count": 293,
   "id": "1acf4429",
   "metadata": {},
   "outputs": [
    {
     "data": {
      "text/plain": [
       "1"
      ]
     },
     "execution_count": 293,
     "metadata": {},
     "output_type": "execute_result"
    }
   ],
   "source": [
    "len(dic_list)"
   ]
  },
  {
   "cell_type": "code",
   "execution_count": 294,
   "id": "8e12aec2",
   "metadata": {},
   "outputs": [
    {
     "name": "stdout",
     "output_type": "stream",
     "text": [
      "0\n"
     ]
    }
   ],
   "source": [
    "for i in range(len(dic_list)):\n",
    "    print(i)"
   ]
  },
  {
   "cell_type": "code",
   "execution_count": 295,
   "id": "53fe49d8",
   "metadata": {},
   "outputs": [
    {
     "name": "stdout",
     "output_type": "stream",
     "text": [
      "4000\n"
     ]
    }
   ],
   "source": [
    "find_ind = []\n",
    "for i in range(len(dic_list)):\n",
    "    if list(dic_list.values())[i]==max(dic_list.values()):\n",
    "        find_ind.append( (list(dic_list.keys())[i],\n",
    "                          list(dic_list.values())[i]))\n",
    "        \n",
    "find_ind = sorted(find_ind)\n",
    "\n",
    "if len(find_ind) == 1:\n",
    "    print(find_ind[0][0])\n",
    "else:\n",
    "    print(find_ind[1][0])\n",
    "    "
   ]
  },
  {
   "cell_type": "code",
   "execution_count": 286,
   "id": "ba063a0b",
   "metadata": {},
   "outputs": [
    {
     "data": {
      "text/plain": [
       "[(1, 1), (3, 1), (8, 1), (-2, 1), (2, 1)]"
      ]
     },
     "execution_count": 286,
     "metadata": {},
     "output_type": "execute_result"
    }
   ],
   "source": [
    "find_ind"
   ]
  },
  {
   "cell_type": "code",
   "execution_count": 288,
   "id": "92fba31d",
   "metadata": {},
   "outputs": [
    {
     "data": {
      "text/plain": [
       "[(-2, 1), (1, 1), (2, 1), (3, 1), (8, 1)]"
      ]
     },
     "execution_count": 288,
     "metadata": {},
     "output_type": "execute_result"
    }
   ],
   "source": [
    "find_ind = sorted(find_ind)\n",
    "find_ind"
   ]
  },
  {
   "cell_type": "code",
   "execution_count": 212,
   "id": "c249aafc",
   "metadata": {},
   "outputs": [
    {
     "ename": "AttributeError",
     "evalue": "'list' object has no attribute 'find'",
     "output_type": "error",
     "traceback": [
      "\u001b[0;31m---------------------------------------------------------------------------\u001b[0m",
      "\u001b[0;31mAttributeError\u001b[0m                            Traceback (most recent call last)",
      "Cell \u001b[0;32mIn [212], line 1\u001b[0m\n\u001b[0;32m----> 1\u001b[0m [\u001b[38;5;241m1\u001b[39m,\u001b[38;5;241m2\u001b[39m,\u001b[38;5;241m3\u001b[39m,\u001b[38;5;241m3\u001b[39m]\u001b[38;5;241m.\u001b[39mfind(\u001b[38;5;241m3\u001b[39m)\n",
      "\u001b[0;31mAttributeError\u001b[0m: 'list' object has no attribute 'find'"
     ]
    }
   ],
   "source": [
    "[1,2,3,3].find(3)"
   ]
  },
  {
   "cell_type": "code",
   "execution_count": 195,
   "id": "ce541587",
   "metadata": {},
   "outputs": [
    {
     "data": {
      "text/plain": [
       "-1"
      ]
     },
     "execution_count": 195,
     "metadata": {},
     "output_type": "execute_result"
    }
   ],
   "source": [
    "sorted(dic_list.items(),reverse = True, key = lambda item:item[1])[1][0]"
   ]
  },
  {
   "cell_type": "code",
   "execution_count": null,
   "id": "379b347a",
   "metadata": {},
   "outputs": [],
   "source": []
  },
  {
   "cell_type": "code",
   "execution_count": null,
   "id": "e27397e3",
   "metadata": {},
   "outputs": [],
   "source": []
  },
  {
   "cell_type": "code",
   "execution_count": 137,
   "id": "a2519e62",
   "metadata": {},
   "outputs": [
    {
     "name": "stdout",
     "output_type": "stream",
     "text": [
      "0\n"
     ]
    }
   ],
   "source": [
    "#범위\n",
    "print(abs(max(num_list)-min(num_list))) if N!=1 else print(0)"
   ]
  },
  {
   "cell_type": "code",
   "execution_count": 72,
   "id": "77d0cea8",
   "metadata": {},
   "outputs": [],
   "source": []
  },
  {
   "cell_type": "code",
   "execution_count": 74,
   "id": "222f9912",
   "metadata": {},
   "outputs": [],
   "source": [
    "dic_lis = dict0(test)"
   ]
  },
  {
   "cell_type": "code",
   "execution_count": 78,
   "id": "6ba0aa00",
   "metadata": {},
   "outputs": [
    {
     "data": {
      "text/plain": [
       "[(1, 1), (2, 1), (3, 1), (4, 1), (5, 2), (6, 2)]"
      ]
     },
     "execution_count": 78,
     "metadata": {},
     "output_type": "execute_result"
    }
   ],
   "source": [
    "sorted(dic_list.items(), key = lambda item : item[1])"
   ]
  },
  {
   "cell_type": "code",
   "execution_count": null,
   "id": "237d1ec1",
   "metadata": {},
   "outputs": [],
   "source": [
    "dic_list.value()"
   ]
  },
  {
   "cell_type": "code",
   "execution_count": 30,
   "id": "69a41738",
   "metadata": {},
   "outputs": [
    {
     "data": {
      "text/plain": [
       "6"
      ]
     },
     "execution_count": 30,
     "metadata": {},
     "output_type": "execute_result"
    }
   ],
   "source": [
    "test_dic = {1: 5, 2: 6, 3: 3, 4: 3, 5: 1, 6: 6}\n",
    "max(test_dic.values())\n"
   ]
  },
  {
   "cell_type": "code",
   "execution_count": 45,
   "id": "e524e05e",
   "metadata": {},
   "outputs": [
    {
     "data": {
      "text/plain": [
       "dict_items([(1, 5), (2, 6), (3, 3), (4, 3), (5, 1), (6, 6)])"
      ]
     },
     "execution_count": 45,
     "metadata": {},
     "output_type": "execute_result"
    }
   ],
   "source": [
    "test_dic.items()"
   ]
  },
  {
   "cell_type": "code",
   "execution_count": 44,
   "id": "2db710c2",
   "metadata": {},
   "outputs": [
    {
     "data": {
      "text/plain": [
       "[(1, 5), (2, 6), (3, 3), (4, 3), (5, 1), (6, 6)]"
      ]
     },
     "execution_count": 44,
     "metadata": {},
     "output_type": "execute_result"
    }
   ],
   "source": [
    "sorted(test_dic.items())"
   ]
  },
  {
   "cell_type": "code",
   "execution_count": 89,
   "id": "74f5b26b",
   "metadata": {},
   "outputs": [
    {
     "data": {
      "text/plain": [
       "6"
      ]
     },
     "execution_count": 89,
     "metadata": {},
     "output_type": "execute_result"
    }
   ],
   "source": []
  },
  {
   "cell_type": "code",
   "execution_count": 41,
   "id": "8ad7d15c",
   "metadata": {},
   "outputs": [
    {
     "data": {
      "text/plain": [
       "dict_values([5, 6, 3, 3, 1, 6])"
      ]
     },
     "execution_count": 41,
     "metadata": {},
     "output_type": "execute_result"
    }
   ],
   "source": [
    "test_dic.values()"
   ]
  },
  {
   "cell_type": "code",
   "execution_count": 39,
   "id": "6d556ba7",
   "metadata": {},
   "outputs": [
    {
     "data": {
      "text/plain": [
       "1"
      ]
     },
     "execution_count": 39,
     "metadata": {},
     "output_type": "execute_result"
    }
   ],
   "source": [
    "list(test_dic.values()).index(6)"
   ]
  }
 ],
 "metadata": {
  "kernelspec": {
   "display_name": "Python 3 (ipykernel)",
   "language": "python",
   "name": "python3"
  },
  "language_info": {
   "codemirror_mode": {
    "name": "ipython",
    "version": 3
   },
   "file_extension": ".py",
   "mimetype": "text/x-python",
   "name": "python",
   "nbconvert_exporter": "python",
   "pygments_lexer": "ipython3",
   "version": "3.9.0b1"
  }
 },
 "nbformat": 4,
 "nbformat_minor": 5
}
