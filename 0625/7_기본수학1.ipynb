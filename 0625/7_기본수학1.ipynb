{
  "nbformat": 4,
  "nbformat_minor": 0,
  "metadata": {
    "colab": {
      "name": "7_기본수학1.ipynb",
      "provenance": [],
      "collapsed_sections": []
    },
    "kernelspec": {
      "name": "python3",
      "display_name": "Python 3"
    },
    "language_info": {
      "name": "python"
    }
  },
  "cells": [
    {
      "cell_type": "code",
      "execution_count": 19,
      "metadata": {
        "colab": {
          "base_uri": "https://localhost:8080/"
        },
        "id": "PcwCAU1F_Wo0",
        "outputId": "763048f6-3dea-4767-a356-63cbdedb57d4"
      },
      "outputs": [
        {
          "output_type": "stream",
          "name": "stdout",
          "text": [
            "1000 70 170\n",
            "11\n"
          ]
        }
      ],
      "source": [
        "##1712번\n",
        "def solution():\n",
        "    A, B, C = map(int, input().split())\n",
        "    if B >=C :\n",
        "        x = -1\n",
        "    else:\n",
        "        x = int(A/(C-B))+1\n",
        "    print(x)\n",
        "\n",
        "solution()"
      ]
    },
    {
      "cell_type": "code",
      "source": [
        "##2292 벌집"
      ],
      "metadata": {
        "id": "c4pdPQ7MAASh"
      },
      "execution_count": 20,
      "outputs": []
    },
    {
      "cell_type": "code",
      "source": [
        "def solution():\n",
        "    N = int(input())\n",
        "    \n",
        "    x = 2\n",
        "    plus = 6\n",
        "    cnt = 1\n",
        "\n",
        "    while N >= x :\n",
        "        \n",
        "        if N==1 :\n",
        "            print(1)\n",
        "            break\n",
        "        else:\n",
        "            x+=plus\n",
        "            plus+=6\n",
        "            \n",
        "        cnt+=1\n",
        "        \n",
        "    print(cnt)\n",
        "    \n",
        "solution()"
      ],
      "metadata": {
        "colab": {
          "base_uri": "https://localhost:8080/"
        },
        "id": "2w5A6rgIGyFS",
        "outputId": "676ce701-ad11-47f2-d264-7ea1c1799415"
      },
      "execution_count": 120,
      "outputs": [
        {
          "output_type": "stream",
          "name": "stdout",
          "text": [
            "91\n",
            "6\n"
          ]
        }
      ]
    },
    {
      "cell_type": "code",
      "source": [
        "#1193 분수찾기"
      ],
      "metadata": {
        "id": "yrA4SoJ1czoy"
      },
      "execution_count": null,
      "outputs": []
    },
    {
      "cell_type": "code",
      "source": [
        "def solution() :\n",
        "    \n",
        "    N = int(input())\n",
        "    line = 1\n",
        "    while N > line :\n",
        "        N-=line\n",
        "        line+=1\n",
        "\n",
        "    if line%2==0:\n",
        "        a = line - N + 1\n",
        "        b = N\n",
        "    else:\n",
        "        b = line - N + 1\n",
        "        a = N\n",
        "        \n",
        "    print(b,'/',a,sep='')\n",
        "    \n",
        "solution()\n",
        "\n",
        "    \n",
        "\n"
      ],
      "metadata": {
        "colab": {
          "base_uri": "https://localhost:8080/"
        },
        "id": "wTS2ZAL4iud1",
        "outputId": "fca75363-fb98-42da-fc46-473ffe32a472"
      },
      "execution_count": 161,
      "outputs": [
        {
          "output_type": "stream",
          "name": "stdout",
          "text": [
            "9\n",
            "2/3\n"
          ]
        }
      ]
    }
  ]
}